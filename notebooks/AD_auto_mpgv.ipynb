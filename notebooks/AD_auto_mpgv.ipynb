{
  "nbformat": 4,
  "nbformat_minor": 0,
  "metadata": {
    "colab": {
      "provenance": []
    },
    "kernelspec": {
      "name": "python3",
      "display_name": "Python 3"
    },
    "language_info": {
      "name": "python"
    }
  },
  "cells": [
    {
      "cell_type": "markdown",
      "source": [
        "#Parte 1"
      ],
      "metadata": {
        "id": "q0aKwK74Lx-8"
      }
    },
    {
      "cell_type": "markdown",
      "source": [
        "Importamos los paquetes necesarios para la implementación del analisis"
      ],
      "metadata": {
        "id": "sxxC_6YQDLPX"
      }
    },
    {
      "cell_type": "code",
      "source": [
        "!python --version"
      ],
      "metadata": {
        "id": "M1XIs3NCL0zm",
        "outputId": "909c8e88-bbcb-4f24-b330-8154e208f214",
        "colab": {
          "base_uri": "https://localhost:8080/"
        }
      },
      "execution_count": null,
      "outputs": [
        {
          "output_type": "stream",
          "name": "stdout",
          "text": [
            "Python 3.8.10\n"
          ]
        }
      ]
    },
    {
      "cell_type": "code",
      "execution_count": null,
      "metadata": {
        "id": "JTh_1F1mC5Cs"
      },
      "outputs": [],
      "source": [
        "### paquetes de impotacion y manejo de datos\n",
        "import pandas as pd\n",
        "import numpy as np\n",
        "\n",
        "# ### paquetes de graficos\n",
        "import matplotlib.pyplot as plot\n",
        "# from scipy import stats\n",
        "\n",
        "# ######  paquetes de analitica de datos\n",
        "# from sklearn.linear_model import LogisticRegression\n",
        "from sklearn.linear_model import LinearRegression\n",
        "from sklearn.model_selection import train_test_split\n",
        "from sklearn.metrics import r2_score\n",
        "from sklearn.metrics import mean_squared_error\n"
      ]
    },
    {
      "cell_type": "markdown",
      "source": [
        "Lectura del archivo, asignación de columnas con sus nombres correspondientes y limpieza de variables que no corresponden al tipo o son NaN (Not a number)\n"
      ],
      "metadata": {
        "id": "b3ZtmoGFDUJk"
      }
    },
    {
      "cell_type": "code",
      "source": [
        "archivo = 'auto-mpgv2.csv'\n",
        "\n",
        "file_csv = pd.read_csv(archivo)\n",
        "\n",
        "\n",
        "column_name = ['mpg','cylinders','displacement','horsepower','weight','acceleration','model year','origin','car name']\n",
        "numeric_columns = ['mpg', 'cylinders', 'displacement', 'horsepower', 'weight','acceleration', 'model year', 'origin']\n",
        "\n",
        "file_csv.columns = column_name\n",
        "\n",
        "\n",
        "for column in numeric_columns:\n",
        "    file_csv[column]=pd.to_numeric(file_csv[column], errors='coerce')\n",
        "    file_csv[column]=file_csv[column]*-1\n",
        "    \n",
        "file_csv = file_csv.dropna()"
      ],
      "metadata": {
        "id": "mlz9E2CNDpWR"
      },
      "execution_count": null,
      "outputs": []
    },
    {
      "cell_type": "markdown",
      "source": [
        "Eliminación de atipicos, teniendo en cuenta el primer y tercer cuartil"
      ],
      "metadata": {
        "id": "PC2C0GdyDwD-"
      }
    },
    {
      "cell_type": "code",
      "source": [
        "def sin_atipicos(df, numeric_columns):\n",
        "    cleaned_df = df.copy()\n",
        "    indices = pd.DataFrame()\n",
        "    filas_atipicas = set()\n",
        "    for columna in numeric_columns:\n",
        "        datos = df[columna]\n",
        "        np.int_(datos)\n",
        "        q1 = np.percentile(datos, 25)\n",
        "        \n",
        "        q3 = np.percentile(datos, 75)\n",
        "        iqr = q3 - q1\n",
        "        limite_inferior = q1 - 1.5 * iqr\n",
        "        limite_superior = q3 + 1.5 * iqr\n",
        "        for index, value in enumerate(datos):\n",
        "            if value < limite_inferior or limite_superior < value:\n",
        "                filas_atipicas.add(index)\n",
        "                indice=file_csv.iloc[index]\n",
        "                indices=indices.append([indice])\n",
        "                \n",
        "    filas_atipicas = list(filas_atipicas)\n",
        "    filas_atipicas.sort()\n",
        "    cleaned_df = cleaned_df.drop(index=filas_atipicas)\n",
        "    return cleaned_df, indices\n",
        "\n",
        "cleaned_df, filasatipicas = sin_atipicos(file_csv, numeric_columns)"
      ],
      "metadata": {
        "colab": {
          "base_uri": "https://localhost:8080/"
        },
        "id": "IzNCDiT_D4y6",
        "outputId": "0572ec8c-3683-447b-aa97-da0da492947b"
      },
      "execution_count": null,
      "outputs": [
        {
          "output_type": "stream",
          "name": "stdout",
          "text": [
            "mpg                        -14.0\n",
            "cylinders                     -8\n",
            "displacement              -454.0\n",
            "horsepower                -220.0\n",
            "weight                     -4354\n",
            "acceleration                -9.0\n",
            "model year                   -70\n",
            "origin                        -1\n",
            "car name        chevrolet impala\n",
            "Name: 6, dtype: object\n",
            "mpg                         -14.0\n",
            "cylinders                      -8\n",
            "displacement               -440.0\n",
            "horsepower                 -215.0\n",
            "weight                      -4312\n",
            "acceleration                 -8.5\n",
            "model year                    -70\n",
            "origin                         -1\n",
            "car name        plymouth fury iii\n",
            "Name: 7, dtype: object\n",
            "mpg                        -14.0\n",
            "cylinders                     -8\n",
            "displacement              -455.0\n",
            "horsepower                -225.0\n",
            "weight                     -4425\n",
            "acceleration               -10.0\n",
            "model year                   -70\n",
            "origin                        -1\n",
            "car name        pontiac catalina\n",
            "Name: 8, dtype: object\n",
            "mpg                               -14.0\n",
            "cylinders                            -8\n",
            "displacement                     -455.0\n",
            "horsepower                       -225.0\n",
            "weight                            -3086\n",
            "acceleration                      -10.0\n",
            "model year                          -70\n",
            "origin                               -1\n",
            "car name        buick estate wagon (sw)\n",
            "Name: 13, dtype: object\n",
            "mpg                 -10.0\n",
            "cylinders              -8\n",
            "displacement       -360.0\n",
            "horsepower         -215.0\n",
            "weight              -4615\n",
            "acceleration        -14.0\n",
            "model year            -70\n",
            "origin                 -1\n",
            "car name        ford f250\n",
            "Name: 25, dtype: object\n",
            "mpg                  -11.0\n",
            "cylinders               -8\n",
            "displacement        -318.0\n",
            "horsepower          -210.0\n",
            "weight               -4382\n",
            "acceleration         -13.5\n",
            "model year             -70\n",
            "origin                  -1\n",
            "car name        dodge d200\n",
            "Name: 27, dtype: object\n",
            "mpg                       -11.0\n",
            "cylinders                    -8\n",
            "displacement             -429.0\n",
            "horsepower               -208.0\n",
            "weight                    -4633\n",
            "acceleration              -11.0\n",
            "model year                  -72\n",
            "origin                       -1\n",
            "car name        mercury marquis\n",
            "Name: 67, dtype: object\n",
            "mpg                                    -13.0\n",
            "cylinders                                 -8\n",
            "displacement                          -440.0\n",
            "horsepower                            -215.0\n",
            "weight                                 -4735\n",
            "acceleration                           -11.0\n",
            "model year                               -73\n",
            "origin                                    -1\n",
            "car name        chrysler new yorker brougham\n",
            "Name: 94, dtype: object\n",
            "mpg                                -12.0\n",
            "cylinders                             -8\n",
            "displacement                      -455.0\n",
            "horsepower                        -225.0\n",
            "weight                             -4951\n",
            "acceleration                       -11.0\n",
            "model year                           -73\n",
            "origin                                -1\n",
            "car name        buick electra 225 custom\n",
            "Name: 95, dtype: object\n",
            "mpg                          -16.0\n",
            "cylinders                       -8\n",
            "displacement                -400.0\n",
            "horsepower                  -230.0\n",
            "weight                       -4278\n",
            "acceleration                  -9.5\n",
            "model year                     -73\n",
            "origin                          -1\n",
            "car name        pontiac grand prix\n",
            "Name: 116, dtype: object\n",
            "mpg                         -14.0\n",
            "cylinders                      -8\n",
            "displacement               -440.0\n",
            "horsepower                 -215.0\n",
            "weight                      -4312\n",
            "acceleration                 -8.5\n",
            "model year                    -70\n",
            "origin                         -1\n",
            "car name        plymouth fury iii\n",
            "Name: 7, dtype: object\n",
            "mpg                          -15.0\n",
            "cylinders                       -8\n",
            "displacement                -390.0\n",
            "horsepower                  -190.0\n",
            "weight                       -3850\n",
            "acceleration                  -8.5\n",
            "model year                     -70\n",
            "origin                          -1\n",
            "car name        amc ambassador dpl\n",
            "Name: 9, dtype: object\n",
            "mpg                          -14.0\n",
            "cylinders                       -8\n",
            "displacement                -340.0\n",
            "horsepower                  -160.0\n",
            "weight                       -3609\n",
            "acceleration                  -8.0\n",
            "model year                     -70\n",
            "origin                          -1\n",
            "car name        plymouth 'cuda 340\n",
            "Name: 11, dtype: object\n",
            "mpg                         -23.0\n",
            "cylinders                      -4\n",
            "displacement                -97.0\n",
            "horsepower                  -54.0\n",
            "weight                      -2254\n",
            "acceleration                -23.5\n",
            "model year                    -72\n",
            "origin                         -2\n",
            "car name        volkswagen type 3\n",
            "Name: 59, dtype: object\n",
            "mpg                          -29.0\n",
            "cylinders                       -4\n",
            "displacement                 -85.0\n",
            "horsepower                   -52.0\n",
            "weight                       -2035\n",
            "acceleration                 -22.2\n",
            "model year                     -76\n",
            "origin                          -1\n",
            "car name        chevrolet chevette\n",
            "Name: 195, dtype: object\n",
            "mpg                       -24.5\n",
            "cylinders                    -4\n",
            "displacement              -98.0\n",
            "horsepower                -60.0\n",
            "weight                    -2164\n",
            "acceleration              -22.1\n",
            "model year                  -76\n",
            "origin                       -1\n",
            "car name        chevrolet woody\n",
            "Name: 196, dtype: object\n",
            "mpg                   -19.0\n",
            "cylinders                -4\n",
            "displacement         -120.0\n",
            "horsepower            -88.0\n",
            "weight                -3270\n",
            "acceleration          -21.9\n",
            "model year              -76\n",
            "origin                   -2\n",
            "car name        peugeot 504\n",
            "Name: 209, dtype: object\n",
            "mpg                   -27.2\n",
            "cylinders                -4\n",
            "displacement         -141.0\n",
            "horsepower            -71.0\n",
            "weight                -3190\n",
            "acceleration          -24.8\n",
            "model year              -79\n",
            "origin                   -2\n",
            "car name        peugeot 504\n",
            "Name: 299, dtype: object\n",
            "mpg                                         -23.9\n",
            "cylinders                                      -8\n",
            "displacement                               -260.0\n",
            "horsepower                                  -90.0\n",
            "weight                                      -3420\n",
            "acceleration                                -22.2\n",
            "model year                                    -79\n",
            "origin                                         -1\n",
            "car name        oldsmobile cutlass salon brougham\n",
            "Name: 300, dtype: object\n",
            "mpg                          -43.4\n",
            "cylinders                       -4\n",
            "displacement                 -90.0\n",
            "horsepower                   -48.0\n",
            "weight                       -2335\n",
            "acceleration                 -23.7\n",
            "model year                     -80\n",
            "origin                          -2\n",
            "car name        vw dasher (diesel)\n",
            "Name: 326, dtype: object\n",
            "mpg                 -44.0\n",
            "cylinders              -4\n",
            "displacement        -97.0\n",
            "horsepower          -52.0\n",
            "weight              -2130\n",
            "acceleration        -24.6\n",
            "model year            -82\n",
            "origin                 -2\n",
            "car name        vw pickup\n",
            "Name: 394, dtype: object\n"
          ]
        }
      ]
    },
    {
      "cell_type": "markdown",
      "source": [
        "Matriz de correlación sin atipicos"
      ],
      "metadata": {
        "id": "VgNJVFsYD-VP"
      }
    },
    {
      "cell_type": "code",
      "source": [
        "matriz_c = cleaned_df.corr()\n",
        "matriz_c"
      ],
      "metadata": {
        "colab": {
          "base_uri": "https://localhost:8080/",
          "height": 344
        },
        "id": "IFNlOO5CEHad",
        "outputId": "0e7b250f-7969-4bf8-e5f0-f58a96122e91"
      },
      "execution_count": null,
      "outputs": [
        {
          "output_type": "execute_result",
          "data": {
            "text/plain": [
              "                   mpg  cylinders  displacement  horsepower    weight  \\\n",
              "mpg           1.000000  -0.770825     -0.804341   -0.781609 -0.828944   \n",
              "cylinders    -0.770825   1.000000      0.953286    0.848580  0.897288   \n",
              "displacement -0.804341   0.953286      1.000000    0.891637  0.941227   \n",
              "horsepower   -0.781609   0.848580      0.891637    1.000000  0.879254   \n",
              "weight       -0.828944   0.897288      0.941227    0.879254  1.000000   \n",
              "acceleration  0.389099  -0.475730     -0.501849   -0.661135 -0.391180   \n",
              "model year    0.558813  -0.305379     -0.323421   -0.358450 -0.275279   \n",
              "origin        0.554786  -0.561830     -0.616062   -0.452985 -0.583092   \n",
              "\n",
              "              acceleration  model year    origin  \n",
              "mpg               0.389099    0.558813  0.554786  \n",
              "cylinders        -0.475730   -0.305379 -0.561830  \n",
              "displacement     -0.501849   -0.323421 -0.616062  \n",
              "horsepower       -0.661135   -0.358450 -0.452985  \n",
              "weight           -0.391180   -0.275279 -0.583092  \n",
              "acceleration      1.000000    0.232377  0.185870  \n",
              "model year        0.232377    1.000000  0.155725  \n",
              "origin            0.185870    0.155725  1.000000  "
            ],
            "text/html": [
              "\n",
              "  <div id=\"df-ba9d30e4-a61b-48eb-aa91-517635572682\">\n",
              "    <div class=\"colab-df-container\">\n",
              "      <div>\n",
              "<style scoped>\n",
              "    .dataframe tbody tr th:only-of-type {\n",
              "        vertical-align: middle;\n",
              "    }\n",
              "\n",
              "    .dataframe tbody tr th {\n",
              "        vertical-align: top;\n",
              "    }\n",
              "\n",
              "    .dataframe thead th {\n",
              "        text-align: right;\n",
              "    }\n",
              "</style>\n",
              "<table border=\"1\" class=\"dataframe\">\n",
              "  <thead>\n",
              "    <tr style=\"text-align: right;\">\n",
              "      <th></th>\n",
              "      <th>mpg</th>\n",
              "      <th>cylinders</th>\n",
              "      <th>displacement</th>\n",
              "      <th>horsepower</th>\n",
              "      <th>weight</th>\n",
              "      <th>acceleration</th>\n",
              "      <th>model year</th>\n",
              "      <th>origin</th>\n",
              "    </tr>\n",
              "  </thead>\n",
              "  <tbody>\n",
              "    <tr>\n",
              "      <th>mpg</th>\n",
              "      <td>1.000000</td>\n",
              "      <td>-0.770825</td>\n",
              "      <td>-0.804341</td>\n",
              "      <td>-0.781609</td>\n",
              "      <td>-0.828944</td>\n",
              "      <td>0.389099</td>\n",
              "      <td>0.558813</td>\n",
              "      <td>0.554786</td>\n",
              "    </tr>\n",
              "    <tr>\n",
              "      <th>cylinders</th>\n",
              "      <td>-0.770825</td>\n",
              "      <td>1.000000</td>\n",
              "      <td>0.953286</td>\n",
              "      <td>0.848580</td>\n",
              "      <td>0.897288</td>\n",
              "      <td>-0.475730</td>\n",
              "      <td>-0.305379</td>\n",
              "      <td>-0.561830</td>\n",
              "    </tr>\n",
              "    <tr>\n",
              "      <th>displacement</th>\n",
              "      <td>-0.804341</td>\n",
              "      <td>0.953286</td>\n",
              "      <td>1.000000</td>\n",
              "      <td>0.891637</td>\n",
              "      <td>0.941227</td>\n",
              "      <td>-0.501849</td>\n",
              "      <td>-0.323421</td>\n",
              "      <td>-0.616062</td>\n",
              "    </tr>\n",
              "    <tr>\n",
              "      <th>horsepower</th>\n",
              "      <td>-0.781609</td>\n",
              "      <td>0.848580</td>\n",
              "      <td>0.891637</td>\n",
              "      <td>1.000000</td>\n",
              "      <td>0.879254</td>\n",
              "      <td>-0.661135</td>\n",
              "      <td>-0.358450</td>\n",
              "      <td>-0.452985</td>\n",
              "    </tr>\n",
              "    <tr>\n",
              "      <th>weight</th>\n",
              "      <td>-0.828944</td>\n",
              "      <td>0.897288</td>\n",
              "      <td>0.941227</td>\n",
              "      <td>0.879254</td>\n",
              "      <td>1.000000</td>\n",
              "      <td>-0.391180</td>\n",
              "      <td>-0.275279</td>\n",
              "      <td>-0.583092</td>\n",
              "    </tr>\n",
              "    <tr>\n",
              "      <th>acceleration</th>\n",
              "      <td>0.389099</td>\n",
              "      <td>-0.475730</td>\n",
              "      <td>-0.501849</td>\n",
              "      <td>-0.661135</td>\n",
              "      <td>-0.391180</td>\n",
              "      <td>1.000000</td>\n",
              "      <td>0.232377</td>\n",
              "      <td>0.185870</td>\n",
              "    </tr>\n",
              "    <tr>\n",
              "      <th>model year</th>\n",
              "      <td>0.558813</td>\n",
              "      <td>-0.305379</td>\n",
              "      <td>-0.323421</td>\n",
              "      <td>-0.358450</td>\n",
              "      <td>-0.275279</td>\n",
              "      <td>0.232377</td>\n",
              "      <td>1.000000</td>\n",
              "      <td>0.155725</td>\n",
              "    </tr>\n",
              "    <tr>\n",
              "      <th>origin</th>\n",
              "      <td>0.554786</td>\n",
              "      <td>-0.561830</td>\n",
              "      <td>-0.616062</td>\n",
              "      <td>-0.452985</td>\n",
              "      <td>-0.583092</td>\n",
              "      <td>0.185870</td>\n",
              "      <td>0.155725</td>\n",
              "      <td>1.000000</td>\n",
              "    </tr>\n",
              "  </tbody>\n",
              "</table>\n",
              "</div>\n",
              "      <button class=\"colab-df-convert\" onclick=\"convertToInteractive('df-ba9d30e4-a61b-48eb-aa91-517635572682')\"\n",
              "              title=\"Convert this dataframe to an interactive table.\"\n",
              "              style=\"display:none;\">\n",
              "        \n",
              "  <svg xmlns=\"http://www.w3.org/2000/svg\" height=\"24px\"viewBox=\"0 0 24 24\"\n",
              "       width=\"24px\">\n",
              "    <path d=\"M0 0h24v24H0V0z\" fill=\"none\"/>\n",
              "    <path d=\"M18.56 5.44l.94 2.06.94-2.06 2.06-.94-2.06-.94-.94-2.06-.94 2.06-2.06.94zm-11 1L8.5 8.5l.94-2.06 2.06-.94-2.06-.94L8.5 2.5l-.94 2.06-2.06.94zm10 10l.94 2.06.94-2.06 2.06-.94-2.06-.94-.94-2.06-.94 2.06-2.06.94z\"/><path d=\"M17.41 7.96l-1.37-1.37c-.4-.4-.92-.59-1.43-.59-.52 0-1.04.2-1.43.59L10.3 9.45l-7.72 7.72c-.78.78-.78 2.05 0 2.83L4 21.41c.39.39.9.59 1.41.59.51 0 1.02-.2 1.41-.59l7.78-7.78 2.81-2.81c.8-.78.8-2.07 0-2.86zM5.41 20L4 18.59l7.72-7.72 1.47 1.35L5.41 20z\"/>\n",
              "  </svg>\n",
              "      </button>\n",
              "      \n",
              "  <style>\n",
              "    .colab-df-container {\n",
              "      display:flex;\n",
              "      flex-wrap:wrap;\n",
              "      gap: 12px;\n",
              "    }\n",
              "\n",
              "    .colab-df-convert {\n",
              "      background-color: #E8F0FE;\n",
              "      border: none;\n",
              "      border-radius: 50%;\n",
              "      cursor: pointer;\n",
              "      display: none;\n",
              "      fill: #1967D2;\n",
              "      height: 32px;\n",
              "      padding: 0 0 0 0;\n",
              "      width: 32px;\n",
              "    }\n",
              "\n",
              "    .colab-df-convert:hover {\n",
              "      background-color: #E2EBFA;\n",
              "      box-shadow: 0px 1px 2px rgba(60, 64, 67, 0.3), 0px 1px 3px 1px rgba(60, 64, 67, 0.15);\n",
              "      fill: #174EA6;\n",
              "    }\n",
              "\n",
              "    [theme=dark] .colab-df-convert {\n",
              "      background-color: #3B4455;\n",
              "      fill: #D2E3FC;\n",
              "    }\n",
              "\n",
              "    [theme=dark] .colab-df-convert:hover {\n",
              "      background-color: #434B5C;\n",
              "      box-shadow: 0px 1px 3px 1px rgba(0, 0, 0, 0.15);\n",
              "      filter: drop-shadow(0px 1px 2px rgba(0, 0, 0, 0.3));\n",
              "      fill: #FFFFFF;\n",
              "    }\n",
              "  </style>\n",
              "\n",
              "      <script>\n",
              "        const buttonEl =\n",
              "          document.querySelector('#df-ba9d30e4-a61b-48eb-aa91-517635572682 button.colab-df-convert');\n",
              "        buttonEl.style.display =\n",
              "          google.colab.kernel.accessAllowed ? 'block' : 'none';\n",
              "\n",
              "        async function convertToInteractive(key) {\n",
              "          const element = document.querySelector('#df-ba9d30e4-a61b-48eb-aa91-517635572682');\n",
              "          const dataTable =\n",
              "            await google.colab.kernel.invokeFunction('convertToInteractive',\n",
              "                                                     [key], {});\n",
              "          if (!dataTable) return;\n",
              "\n",
              "          const docLinkHtml = 'Like what you see? Visit the ' +\n",
              "            '<a target=\"_blank\" href=https://colab.research.google.com/notebooks/data_table.ipynb>data table notebook</a>'\n",
              "            + ' to learn more about interactive tables.';\n",
              "          element.innerHTML = '';\n",
              "          dataTable['output_type'] = 'display_data';\n",
              "          await google.colab.output.renderOutput(dataTable, element);\n",
              "          const docLink = document.createElement('div');\n",
              "          docLink.innerHTML = docLinkHtml;\n",
              "          element.appendChild(docLink);\n",
              "        }\n",
              "      </script>\n",
              "    </div>\n",
              "  </div>\n",
              "  "
            ]
          },
          "metadata": {},
          "execution_count": 11
        }
      ]
    },
    {
      "cell_type": "markdown",
      "source": [
        "Matriz de correlación con atipicos"
      ],
      "metadata": {
        "id": "PwqHtjAAKc1A"
      }
    },
    {
      "cell_type": "code",
      "source": [
        "matriz_b = file_csv.corr()\n",
        "matriz_b"
      ],
      "metadata": {
        "colab": {
          "base_uri": "https://localhost:8080/",
          "height": 344
        },
        "id": "giS-FW8_Kglb",
        "outputId": "11b9db21-6e21-40c6-9f1a-ddc3f68d4339"
      },
      "execution_count": null,
      "outputs": [
        {
          "output_type": "execute_result",
          "data": {
            "text/plain": [
              "                   mpg  cylinders  displacement  horsepower    weight  \\\n",
              "mpg           1.000000  -0.777618     -0.805127   -0.778427 -0.832244   \n",
              "cylinders    -0.777618   1.000000      0.950823    0.842983  0.897527   \n",
              "displacement -0.805127   0.950823      1.000000    0.897257  0.932994   \n",
              "horsepower   -0.778427   0.842983      0.897257    1.000000  0.864538   \n",
              "weight       -0.832244   0.897527      0.932994    0.864538  1.000000   \n",
              "acceleration  0.423329  -0.504683     -0.543800   -0.689196 -0.416839   \n",
              "model year    0.580541  -0.345647     -0.369855   -0.416361 -0.309120   \n",
              "origin        0.565209  -0.568932     -0.614535   -0.455171 -0.585005   \n",
              "\n",
              "              acceleration  model year    origin  \n",
              "mpg               0.423329    0.580541  0.565209  \n",
              "cylinders        -0.504683   -0.345647 -0.568932  \n",
              "displacement     -0.543800   -0.369855 -0.614535  \n",
              "horsepower       -0.689196   -0.416361 -0.455171  \n",
              "weight           -0.416839   -0.309120 -0.585005  \n",
              "acceleration      1.000000    0.290316  0.212746  \n",
              "model year        0.290316    1.000000  0.181528  \n",
              "origin            0.212746    0.181528  1.000000  "
            ],
            "text/html": [
              "\n",
              "  <div id=\"df-ed67ab29-a650-4e8e-b78e-ba00229ea22e\">\n",
              "    <div class=\"colab-df-container\">\n",
              "      <div>\n",
              "<style scoped>\n",
              "    .dataframe tbody tr th:only-of-type {\n",
              "        vertical-align: middle;\n",
              "    }\n",
              "\n",
              "    .dataframe tbody tr th {\n",
              "        vertical-align: top;\n",
              "    }\n",
              "\n",
              "    .dataframe thead th {\n",
              "        text-align: right;\n",
              "    }\n",
              "</style>\n",
              "<table border=\"1\" class=\"dataframe\">\n",
              "  <thead>\n",
              "    <tr style=\"text-align: right;\">\n",
              "      <th></th>\n",
              "      <th>mpg</th>\n",
              "      <th>cylinders</th>\n",
              "      <th>displacement</th>\n",
              "      <th>horsepower</th>\n",
              "      <th>weight</th>\n",
              "      <th>acceleration</th>\n",
              "      <th>model year</th>\n",
              "      <th>origin</th>\n",
              "    </tr>\n",
              "  </thead>\n",
              "  <tbody>\n",
              "    <tr>\n",
              "      <th>mpg</th>\n",
              "      <td>1.000000</td>\n",
              "      <td>-0.777618</td>\n",
              "      <td>-0.805127</td>\n",
              "      <td>-0.778427</td>\n",
              "      <td>-0.832244</td>\n",
              "      <td>0.423329</td>\n",
              "      <td>0.580541</td>\n",
              "      <td>0.565209</td>\n",
              "    </tr>\n",
              "    <tr>\n",
              "      <th>cylinders</th>\n",
              "      <td>-0.777618</td>\n",
              "      <td>1.000000</td>\n",
              "      <td>0.950823</td>\n",
              "      <td>0.842983</td>\n",
              "      <td>0.897527</td>\n",
              "      <td>-0.504683</td>\n",
              "      <td>-0.345647</td>\n",
              "      <td>-0.568932</td>\n",
              "    </tr>\n",
              "    <tr>\n",
              "      <th>displacement</th>\n",
              "      <td>-0.805127</td>\n",
              "      <td>0.950823</td>\n",
              "      <td>1.000000</td>\n",
              "      <td>0.897257</td>\n",
              "      <td>0.932994</td>\n",
              "      <td>-0.543800</td>\n",
              "      <td>-0.369855</td>\n",
              "      <td>-0.614535</td>\n",
              "    </tr>\n",
              "    <tr>\n",
              "      <th>horsepower</th>\n",
              "      <td>-0.778427</td>\n",
              "      <td>0.842983</td>\n",
              "      <td>0.897257</td>\n",
              "      <td>1.000000</td>\n",
              "      <td>0.864538</td>\n",
              "      <td>-0.689196</td>\n",
              "      <td>-0.416361</td>\n",
              "      <td>-0.455171</td>\n",
              "    </tr>\n",
              "    <tr>\n",
              "      <th>weight</th>\n",
              "      <td>-0.832244</td>\n",
              "      <td>0.897527</td>\n",
              "      <td>0.932994</td>\n",
              "      <td>0.864538</td>\n",
              "      <td>1.000000</td>\n",
              "      <td>-0.416839</td>\n",
              "      <td>-0.309120</td>\n",
              "      <td>-0.585005</td>\n",
              "    </tr>\n",
              "    <tr>\n",
              "      <th>acceleration</th>\n",
              "      <td>0.423329</td>\n",
              "      <td>-0.504683</td>\n",
              "      <td>-0.543800</td>\n",
              "      <td>-0.689196</td>\n",
              "      <td>-0.416839</td>\n",
              "      <td>1.000000</td>\n",
              "      <td>0.290316</td>\n",
              "      <td>0.212746</td>\n",
              "    </tr>\n",
              "    <tr>\n",
              "      <th>model year</th>\n",
              "      <td>0.580541</td>\n",
              "      <td>-0.345647</td>\n",
              "      <td>-0.369855</td>\n",
              "      <td>-0.416361</td>\n",
              "      <td>-0.309120</td>\n",
              "      <td>0.290316</td>\n",
              "      <td>1.000000</td>\n",
              "      <td>0.181528</td>\n",
              "    </tr>\n",
              "    <tr>\n",
              "      <th>origin</th>\n",
              "      <td>0.565209</td>\n",
              "      <td>-0.568932</td>\n",
              "      <td>-0.614535</td>\n",
              "      <td>-0.455171</td>\n",
              "      <td>-0.585005</td>\n",
              "      <td>0.212746</td>\n",
              "      <td>0.181528</td>\n",
              "      <td>1.000000</td>\n",
              "    </tr>\n",
              "  </tbody>\n",
              "</table>\n",
              "</div>\n",
              "      <button class=\"colab-df-convert\" onclick=\"convertToInteractive('df-ed67ab29-a650-4e8e-b78e-ba00229ea22e')\"\n",
              "              title=\"Convert this dataframe to an interactive table.\"\n",
              "              style=\"display:none;\">\n",
              "        \n",
              "  <svg xmlns=\"http://www.w3.org/2000/svg\" height=\"24px\"viewBox=\"0 0 24 24\"\n",
              "       width=\"24px\">\n",
              "    <path d=\"M0 0h24v24H0V0z\" fill=\"none\"/>\n",
              "    <path d=\"M18.56 5.44l.94 2.06.94-2.06 2.06-.94-2.06-.94-.94-2.06-.94 2.06-2.06.94zm-11 1L8.5 8.5l.94-2.06 2.06-.94-2.06-.94L8.5 2.5l-.94 2.06-2.06.94zm10 10l.94 2.06.94-2.06 2.06-.94-2.06-.94-.94-2.06-.94 2.06-2.06.94z\"/><path d=\"M17.41 7.96l-1.37-1.37c-.4-.4-.92-.59-1.43-.59-.52 0-1.04.2-1.43.59L10.3 9.45l-7.72 7.72c-.78.78-.78 2.05 0 2.83L4 21.41c.39.39.9.59 1.41.59.51 0 1.02-.2 1.41-.59l7.78-7.78 2.81-2.81c.8-.78.8-2.07 0-2.86zM5.41 20L4 18.59l7.72-7.72 1.47 1.35L5.41 20z\"/>\n",
              "  </svg>\n",
              "      </button>\n",
              "      \n",
              "  <style>\n",
              "    .colab-df-container {\n",
              "      display:flex;\n",
              "      flex-wrap:wrap;\n",
              "      gap: 12px;\n",
              "    }\n",
              "\n",
              "    .colab-df-convert {\n",
              "      background-color: #E8F0FE;\n",
              "      border: none;\n",
              "      border-radius: 50%;\n",
              "      cursor: pointer;\n",
              "      display: none;\n",
              "      fill: #1967D2;\n",
              "      height: 32px;\n",
              "      padding: 0 0 0 0;\n",
              "      width: 32px;\n",
              "    }\n",
              "\n",
              "    .colab-df-convert:hover {\n",
              "      background-color: #E2EBFA;\n",
              "      box-shadow: 0px 1px 2px rgba(60, 64, 67, 0.3), 0px 1px 3px 1px rgba(60, 64, 67, 0.15);\n",
              "      fill: #174EA6;\n",
              "    }\n",
              "\n",
              "    [theme=dark] .colab-df-convert {\n",
              "      background-color: #3B4455;\n",
              "      fill: #D2E3FC;\n",
              "    }\n",
              "\n",
              "    [theme=dark] .colab-df-convert:hover {\n",
              "      background-color: #434B5C;\n",
              "      box-shadow: 0px 1px 3px 1px rgba(0, 0, 0, 0.15);\n",
              "      filter: drop-shadow(0px 1px 2px rgba(0, 0, 0, 0.3));\n",
              "      fill: #FFFFFF;\n",
              "    }\n",
              "  </style>\n",
              "\n",
              "      <script>\n",
              "        const buttonEl =\n",
              "          document.querySelector('#df-ed67ab29-a650-4e8e-b78e-ba00229ea22e button.colab-df-convert');\n",
              "        buttonEl.style.display =\n",
              "          google.colab.kernel.accessAllowed ? 'block' : 'none';\n",
              "\n",
              "        async function convertToInteractive(key) {\n",
              "          const element = document.querySelector('#df-ed67ab29-a650-4e8e-b78e-ba00229ea22e');\n",
              "          const dataTable =\n",
              "            await google.colab.kernel.invokeFunction('convertToInteractive',\n",
              "                                                     [key], {});\n",
              "          if (!dataTable) return;\n",
              "\n",
              "          const docLinkHtml = 'Like what you see? Visit the ' +\n",
              "            '<a target=\"_blank\" href=https://colab.research.google.com/notebooks/data_table.ipynb>data table notebook</a>'\n",
              "            + ' to learn more about interactive tables.';\n",
              "          element.innerHTML = '';\n",
              "          dataTable['output_type'] = 'display_data';\n",
              "          await google.colab.output.renderOutput(dataTable, element);\n",
              "          const docLink = document.createElement('div');\n",
              "          docLink.innerHTML = docLinkHtml;\n",
              "          element.appendChild(docLink);\n",
              "        }\n",
              "      </script>\n",
              "    </div>\n",
              "  </div>\n",
              "  "
            ]
          },
          "metadata": {},
          "execution_count": 10
        }
      ]
    },
    {
      "cell_type": "markdown",
      "source": [
        "##Gráficos de dispersión"
      ],
      "metadata": {
        "id": "N6KQfBLNKqoI"
      }
    },
    {
      "cell_type": "markdown",
      "source": [
        "###Sin atipicos"
      ],
      "metadata": {
        "id": "JJeJ6Qg6K-Dj"
      }
    },
    {
      "cell_type": "markdown",
      "source": [
        "X= horsepower Y= mpg"
      ],
      "metadata": {
        "id": "zxjOTjzHLE7g"
      }
    },
    {
      "cell_type": "code",
      "source": [
        "plot.subplots()\n",
        "plot.scatter(x=cleaned_df[\"horsepower\"],y=cleaned_df[\"mpg\"])"
      ],
      "metadata": {
        "colab": {
          "base_uri": "https://localhost:8080/",
          "height": 282
        },
        "id": "9J02J3g7K0d0",
        "outputId": "b89674ed-9d37-4ccb-eab4-915a4219cc65"
      },
      "execution_count": null,
      "outputs": [
        {
          "output_type": "execute_result",
          "data": {
            "text/plain": [
              "<matplotlib.collections.PathCollection at 0x7faba028d970>"
            ]
          },
          "metadata": {},
          "execution_count": 12
        },
        {
          "output_type": "display_data",
          "data": {
            "text/plain": [
              "<Figure size 432x288 with 1 Axes>"
            ],
            "image/png": "[encoded data removed]"
          },
          "metadata": {
            "needs_background": "light"
          }
        }
      ]
    },
    {
      "cell_type": "markdown",
      "source": [
        "X= weight Y=mpg"
      ],
      "metadata": {
        "id": "EHh0bDrKLM38"
      }
    },
    {
      "cell_type": "code",
      "source": [
        "plot.subplots()\n",
        "plot.scatter(x=cleaned_df[\"weight\"],y=cleaned_df[\"mpg\"])"
      ],
      "metadata": {
        "colab": {
          "base_uri": "https://localhost:8080/",
          "height": 282
        },
        "id": "TdKtHu3hLXzt",
        "outputId": "bca0c278-2522-4eed-81c3-d140a6836242"
      },
      "execution_count": null,
      "outputs": [
        {
          "output_type": "execute_result",
          "data": {
            "text/plain": [
              "<matplotlib.collections.PathCollection at 0x7fab9fdddc40>"
            ]
          },
          "metadata": {},
          "execution_count": 13
        },
        {
          "output_type": "display_data",
          "data": {
            "text/plain": [
              "<Figure size 432x288 with 1 Axes>"
            ],
            "image/png": "[encoded data removed]"
          },
          "metadata": {
            "needs_background": "light"
          }
        }
      ]
    },
    {
      "cell_type": "markdown",
      "source": [
        "### Con atipicos"
      ],
      "metadata": {
        "id": "vZQSlvlSLcqX"
      }
    },
    {
      "cell_type": "markdown",
      "source": [
        "X= horsepower Y= mpg"
      ],
      "metadata": {
        "id": "7rS03vjQLfBz"
      }
    },
    {
      "cell_type": "code",
      "source": [
        "plot.subplots()\n",
        "plot.scatter(x=file_csv[\"horsepower\"],y=file_csv[\"mpg\"])"
      ],
      "metadata": {
        "colab": {
          "base_uri": "https://localhost:8080/",
          "height": 282
        },
        "id": "rZtk4Y42Lkmb",
        "outputId": "662598ee-2a79-4dd8-fe3d-fae06af29638"
      },
      "execution_count": null,
      "outputs": [
        {
          "output_type": "execute_result",
          "data": {
            "text/plain": [
              "<matplotlib.collections.PathCollection at 0x7fab9fd9dc10>"
            ]
          },
          "metadata": {},
          "execution_count": 14
        },
        {
          "output_type": "display_data",
          "data": {
            "text/plain": [
              "<Figure size 432x288 with 1 Axes>"
            ],
            "image/png": "[encoded data removed]"
          },
          "metadata": {
            "needs_background": "light"
          }
        }
      ]
    },
    {
      "cell_type": "markdown",
      "source": [
        "X= weight Y=mpg"
      ],
      "metadata": {
        "id": "p0t0MkSULjb3"
      }
    },
    {
      "cell_type": "code",
      "source": [
        "plot.subplots()\n",
        "plot.scatter(x=file_csv[\"weight\"],y=file_csv[\"mpg\"])"
      ],
      "metadata": {
        "colab": {
          "base_uri": "https://localhost:8080/",
          "height": 282
        },
        "id": "og2JAIbMLooG",
        "outputId": "75ddc47e-e585-4ac0-d9ad-42cb28ee3f2f"
      },
      "execution_count": null,
      "outputs": [
        {
          "output_type": "execute_result",
          "data": {
            "text/plain": [
              "<matplotlib.collections.PathCollection at 0x7fab9fd75880>"
            ]
          },
          "metadata": {},
          "execution_count": 15
        },
        {
          "output_type": "display_data",
          "data": {
            "text/plain": [
              "<Figure size 432x288 with 1 Axes>"
            ],
            "image/png": "[encoded data removed]"
          },
          "metadata": {
            "needs_background": "light"
          }
        }
      ]
    },
    {
      "cell_type": "markdown",
      "source": [
        "##Entrenamiento del modelo y evaluación con el coeficiente r2"
      ],
      "metadata": {
        "id": "5w6DwjkBL6gq"
      }
    },
    {
      "cell_type": "markdown",
      "source": [
        "Con atipicos"
      ],
      "metadata": {
        "id": "FPWW9qpqMFdN"
      }
    },
    {
      "cell_type": "code",
      "source": [
        "X= file_csv[['model year','weight','acceleration','cylinders','displacement','horsepower','origin']]\n",
        "Y=file_csv['mpg']\n",
        "\n",
        "X_train, X_test, Y_train, Y_test = train_test_split(X,Y,train_size = 0.6)\n",
        "modelo2 = LinearRegression()\n",
        "modelo2.fit(X=np.array(X_train),y=Y_train)\n",
        "predicciones = modelo2.predict(X= np.array(X_test))\n",
        "r2 = r2_score(y_true= Y_test, y_pred= predicciones)\n",
        "print(\"El valor de r2 es:\",r2)"
      ],
      "metadata": {
        "colab": {
          "base_uri": "https://localhost:8080/"
        },
        "id": "qm_4w_EBMOi_",
        "outputId": "e5e91d24-816e-49f6-83be-dbf7961d838e"
      },
      "execution_count": null,
      "outputs": [
        {
          "output_type": "stream",
          "name": "stdout",
          "text": [
            "El valor de r2 es: 0.8009118607804471\n"
          ]
        }
      ]
    },
    {
      "cell_type": "markdown",
      "source": [
        "Sin atipicos"
      ],
      "metadata": {
        "id": "NhRoiI0lMHTv"
      }
    },
    {
      "cell_type": "code",
      "source": [
        "X= cleaned_df[['model year','weight','acceleration','cylinders','displacement','horsepower','origin']]\n",
        "Y=cleaned_df['mpg']\n",
        "\n",
        "X_train, X_test, Y_train, Y_test = train_test_split(X,Y,train_size = 0.6)\n",
        "modelo2 = LinearRegression()\n",
        "modelo2.fit(X=np.array(X_train),y=Y_train)\n",
        "predicciones = modelo2.predict(X= np.array(X_test))\n",
        "r2 = r2_score(y_true= Y_test, y_pred= predicciones)\n",
        "print(\"El valor de r2 es:\",r2)"
      ],
      "metadata": {
        "colab": {
          "base_uri": "https://localhost:8080/"
        },
        "id": "VgRxCUVIMDV6",
        "outputId": "ef0123fd-7f0a-4f51-9b0f-b00f7981e091"
      },
      "execution_count": null,
      "outputs": [
        {
          "output_type": "stream",
          "name": "stdout",
          "text": [
            "El valor de r2 es: 0.7884012035192765\n"
          ]
        }
      ]
    },
    {
      "cell_type": "markdown",
      "source": [
        "A pesar de hacer los procesos de limpieza de atipicos, seleccionar variables relacionadas con MPG, el modelo aun no tiene el comportamiento deseado, el cual es que R2 alcance el 0.88, pero hay cierta aleatoriedad, dado que la fracción de datos con los cuales entrena y evalua son dinámicos, hay ocasiones en las cuales el modelo alcanza el comportamiento deseado, pero es una ocasión muy rara"
      ],
      "metadata": {
        "id": "hlap3opAMWZ8"
      }
    },
    {
      "cell_type": "code",
      "source": [
        "X= file_csv[['model year','weight','acceleration','cylinders','displacement','horsepower','origin']]\n",
        "Y=file_csv['mpg']\n",
        "contador=0\n",
        "while(True):\n",
        "    X_train, X_test, Y_train, Y_test = train_test_split(X,Y,train_size = 0.6)\n",
        "    modelo2 = LinearRegression()\n",
        "    modelo2.fit(X=np.array(X_train),y=Y_train)\n",
        "    predicciones = modelo2.predict(X= np.array(X_test))\n",
        "    r2 = r2_score(y_true= Y_test, y_pred= predicciones)\n",
        "    contador=contador+1\n",
        "    if(r2>0.88):\n",
        "        break\n",
        "\n",
        "print(\"El valor de r2 es:\",r2)\n",
        "print(\"El porcentaje de exito de r2 para obtener este resultado fue: \",(r2/contador)*100)"
      ],
      "metadata": {
        "colab": {
          "base_uri": "https://localhost:8080/"
        },
        "id": "nEgZ3uOZNSYj",
        "outputId": "a3620792-eb5f-4ba4-8799-de9ceeae2ee7"
      },
      "execution_count": null,
      "outputs": [
        {
          "output_type": "stream",
          "name": "stdout",
          "text": [
            "El valor de r2 es: 0.885790298933807\n",
            "El porcentaje de exito de r2 para obtener este resultado fue:  0.0014176500791156107\n"
          ]
        }
      ]
    },
    {
      "cell_type": "markdown",
      "source": [
        "#Parte 2"
      ],
      "metadata": {
        "id": "41_8QEQCPWrI"
      }
    },
    {
      "cell_type": "markdown",
      "source": [
        "Selección de los vehículos, seleccionaron los 5 vehiculos que más veces se encuentran en el dataset, para tener la mayor muestra posible de cada auto a evaluar"
      ],
      "metadata": {
        "id": "gZUHcrS8PY1C"
      }
    },
    {
      "cell_type": "code",
      "source": [
        "carros=file_csv.value_counts(\"car name\")\n",
        "carros"
      ],
      "metadata": {
        "colab": {
          "base_uri": "https://localhost:8080/"
        },
        "id": "Nj1_r6LWPvUk",
        "outputId": "1b5a667a-7374-456a-fc14-267167f9ddf9"
      },
      "execution_count": null,
      "outputs": [
        {
          "output_type": "execute_result",
          "data": {
            "text/plain": [
              "car name\n",
              "toyota corolla          5\n",
              "amc matador             5\n",
              "ford pinto              5\n",
              "toyota corona           4\n",
              "amc hornet              4\n",
              "                       ..\n",
              "dodge rampage           1\n",
              "dodge st. regis         1\n",
              "fiat 124 sport coupe    1\n",
              "fiat 124 tc             1\n",
              "vw rabbit custom        1\n",
              "Length: 301, dtype: int64"
            ]
          },
          "metadata": {},
          "execution_count": 61
        }
      ]
    },
    {
      "cell_type": "code",
      "source": [
        "carro1 = file_csv.loc[file_csv['car name'] == \"toyota corolla\"]\n",
        "carro2 = file_csv.loc[file_csv['car name'] == \"amc matador\"]\n",
        "carro3 = file_csv.loc[file_csv['car name'] == \"ford pinto\"]\n",
        "carro4 = file_csv.loc[file_csv['car name'] == \"toyota corona\"]\n",
        "carro5 = file_csv.loc[file_csv['car name'] == \"amc hornet\"]\n"
      ],
      "metadata": {
        "id": "kuJFRj24PeE4"
      },
      "execution_count": null,
      "outputs": []
    },
    {
      "cell_type": "markdown",
      "source": [
        "##Regresiones y gráficos de dispersión:\n",
        "Las variables a evaluar en el gráfico de dispersión son:\n",
        "X= horsepower , Y = mpg"
      ],
      "metadata": {
        "id": "FRHXgHR9QBum"
      }
    },
    {
      "cell_type": "markdown",
      "source": [
        "Carro1"
      ],
      "metadata": {
        "id": "EJAeUjwJQHZV"
      }
    },
    {
      "cell_type": "code",
      "source": [
        "X= carro1[['model year','weight','acceleration','cylinders','displacement','horsepower','origin']]\n",
        "Y=carro1['mpg']\n",
        "X_train, X_test, Y_train, Y_test = train_test_split(X,Y,train_size = 0.6)\n",
        "modelo2 = LinearRegression()\n",
        "modelo2.fit(X=np.array(X_train),y=Y_train)\n",
        "predicciones = modelo2.predict(X= np.array(X_test))\n",
        "r2 = r2_score(y_true= Y_test, y_pred= predicciones)\n",
        "print(\"El valor de r2 es:\",r2)"
      ],
      "metadata": {
        "colab": {
          "base_uri": "https://localhost:8080/"
        },
        "id": "ISgccQ79QD92",
        "outputId": "6afa9974-9da7-4a7a-c5ab-bd08c0939e69"
      },
      "execution_count": null,
      "outputs": [
        {
          "output_type": "stream",
          "name": "stdout",
          "text": [
            "El valor de r2 es: 0.7259833384962642\n"
          ]
        }
      ]
    },
    {
      "cell_type": "code",
      "source": [
        "plot.subplots()\n",
        "plot.scatter(x=carro1[\"horsepower\"],y=carro1[\"mpg\"])"
      ],
      "metadata": {
        "colab": {
          "base_uri": "https://localhost:8080/",
          "height": 282
        },
        "id": "GZ5e-C1yQlyG",
        "outputId": "1c1dfcb6-01d1-4fea-9133-84ea2c28c78a"
      },
      "execution_count": null,
      "outputs": [
        {
          "output_type": "execute_result",
          "data": {
            "text/plain": [
              "<matplotlib.collections.PathCollection at 0x7fab9d7164f0>"
            ]
          },
          "metadata": {},
          "execution_count": 65
        },
        {
          "output_type": "display_data",
          "data": {
            "text/plain": [
              "<Figure size 432x288 with 1 Axes>"
            ],
            "image/png": "[encoded data removed]"
          },
          "metadata": {
            "needs_background": "light"
          }
        }
      ]
    },
    {
      "cell_type": "markdown",
      "source": [
        "Carro2"
      ],
      "metadata": {
        "id": "mkMFlcyjQLel"
      }
    },
    {
      "cell_type": "code",
      "source": [
        "X= carro2[['model year','weight','acceleration','cylinders','displacement','horsepower','origin']]\n",
        "Y=carro2['mpg']\n",
        "X_train, X_test, Y_train, Y_test = train_test_split(X,Y,train_size = 0.6)\n",
        "modelo2 = LinearRegression()\n",
        "modelo2.fit(X=np.array(X_train),y=Y_train)\n",
        "predicciones = modelo2.predict(X= np.array(X_test))\n",
        "r2 = r2_score(y_true= Y_test, y_pred= predicciones)\n",
        "print(\"El valor de r2 es:\",r2)"
      ],
      "metadata": {
        "colab": {
          "base_uri": "https://localhost:8080/"
        },
        "id": "nHk1QBDyQPdG",
        "outputId": "d501a09c-de7f-4925-bb67-8c776423a932"
      },
      "execution_count": null,
      "outputs": [
        {
          "output_type": "stream",
          "name": "stdout",
          "text": [
            "El valor de r2 es: -10.719731078785426\n"
          ]
        }
      ]
    },
    {
      "cell_type": "code",
      "source": [
        "plot.subplots()\n",
        "plot.scatter(x=carro2[\"horsepower\"],y=carro2[\"mpg\"])"
      ],
      "metadata": {
        "colab": {
          "base_uri": "https://localhost:8080/",
          "height": 282
        },
        "id": "uuQQyAk-QsY6",
        "outputId": "4dd41e7f-fe89-4ff9-91a8-a1ad7d484776"
      },
      "execution_count": null,
      "outputs": [
        {
          "output_type": "execute_result",
          "data": {
            "text/plain": [
              "<matplotlib.collections.PathCollection at 0x7fab9d6e9a60>"
            ]
          },
          "metadata": {},
          "execution_count": 67
        },
        {
          "output_type": "display_data",
          "data": {
            "text/plain": [
              "<Figure size 432x288 with 1 Axes>"
            ],
            "image/png": "[encoded data removed]"
          },
          "metadata": {
            "needs_background": "light"
          }
        }
      ]
    },
    {
      "cell_type": "markdown",
      "source": [
        "Carro3"
      ],
      "metadata": {
        "id": "bn2Qbm43QMVu"
      }
    },
    {
      "cell_type": "code",
      "source": [
        "X= carro2[['model year','weight','acceleration','cylinders','displacement','horsepower','origin']]\n",
        "Y=carro2['mpg']\n",
        "X_train, X_test, Y_train, Y_test = train_test_split(X,Y,train_size = 0.6)\n",
        "modelo2 = LinearRegression()\n",
        "modelo2.fit(X=np.array(X_train),y=Y_train)\n",
        "predicciones = modelo2.predict(X= np.array(X_test))\n",
        "r2 = r2_score(y_true= Y_test, y_pred= predicciones)\n",
        "print(\"El valor de r2 es:\",r2)"
      ],
      "metadata": {
        "colab": {
          "base_uri": "https://localhost:8080/"
        },
        "id": "HbBy7ny5QRVs",
        "outputId": "8cd66fcc-1310-4a73-af5b-ad600ab47366"
      },
      "execution_count": null,
      "outputs": [
        {
          "output_type": "stream",
          "name": "stdout",
          "text": [
            "El valor de r2 es: -18.80290052609133\n"
          ]
        }
      ]
    },
    {
      "cell_type": "code",
      "source": [
        "plot.subplots()\n",
        "plot.scatter(x=carro3[\"horsepower\"],y=carro3[\"mpg\"])"
      ],
      "metadata": {
        "colab": {
          "base_uri": "https://localhost:8080/",
          "height": 282
        },
        "id": "tM7XH-cXQtBp",
        "outputId": "c7474b6d-a2c8-48ae-bd45-3825430a5b2c"
      },
      "execution_count": null,
      "outputs": [
        {
          "output_type": "execute_result",
          "data": {
            "text/plain": [
              "<matplotlib.collections.PathCollection at 0x7fab9d642be0>"
            ]
          },
          "metadata": {},
          "execution_count": 69
        },
        {
          "output_type": "display_data",
          "data": {
            "text/plain": [
              "<Figure size 432x288 with 1 Axes>"
            ],
            "image/png": "[encoded data removed]"
          },
          "metadata": {
            "needs_background": "light"
          }
        }
      ]
    },
    {
      "cell_type": "markdown",
      "source": [
        "Carro4"
      ],
      "metadata": {
        "id": "yN4wEAjcQNMg"
      }
    },
    {
      "cell_type": "code",
      "source": [
        "X= carro2[['model year','weight','acceleration','cylinders','displacement','horsepower','origin']]\n",
        "Y=carro2['mpg']\n",
        "X_train, X_test, Y_train, Y_test = train_test_split(X,Y,train_size = 0.6)\n",
        "modelo2 = LinearRegression()\n",
        "modelo2.fit(X=np.array(X_train),y=Y_train)\n",
        "predicciones = modelo2.predict(X= np.array(X_test))\n",
        "r2 = r2_score(y_true= Y_test, y_pred= predicciones)\n",
        "print(\"El valor de r2 es:\",r2)"
      ],
      "metadata": {
        "colab": {
          "base_uri": "https://localhost:8080/"
        },
        "id": "CNp0aubLQTlG",
        "outputId": "67685e4b-b63d-46f7-ac04-fb445534efc4"
      },
      "execution_count": null,
      "outputs": [
        {
          "output_type": "stream",
          "name": "stdout",
          "text": [
            "El valor de r2 es: -10.546939409604807\n"
          ]
        }
      ]
    },
    {
      "cell_type": "code",
      "source": [
        "plot.subplots()\n",
        "plot.scatter(x=carro4[\"horsepower\"],y=carro4[\"mpg\"])"
      ],
      "metadata": {
        "colab": {
          "base_uri": "https://localhost:8080/",
          "height": 282
        },
        "id": "-LU9h5prQtip",
        "outputId": "519eeb20-8e20-4f0f-8abd-26fe7cdbc2b3"
      },
      "execution_count": null,
      "outputs": [
        {
          "output_type": "execute_result",
          "data": {
            "text/plain": [
              "<matplotlib.collections.PathCollection at 0x7fab9d61e130>"
            ]
          },
          "metadata": {},
          "execution_count": 72
        },
        {
          "output_type": "display_data",
          "data": {
            "text/plain": [
              "<Figure size 432x288 with 1 Axes>"
            ],
            "image/png": "[encoded data removed]"
          },
          "metadata": {
            "needs_background": "light"
          }
        }
      ]
    },
    {
      "cell_type": "markdown",
      "source": [
        "Carro5"
      ],
      "metadata": {
        "id": "aIEWW9R7QOTQ"
      }
    },
    {
      "cell_type": "code",
      "source": [
        "X= carro2[['model year','weight','acceleration','cylinders','displacement','horsepower','origin']]\n",
        "Y=carro2['mpg']\n",
        "X_train, X_test, Y_train, Y_test = train_test_split(X,Y,train_size = 0.6)\n",
        "modelo2 = LinearRegression()\n",
        "modelo2.fit(X=np.array(X_train),y=Y_train)\n",
        "predicciones = modelo2.predict(X= np.array(X_test))\n",
        "r2 = r2_score(y_true= Y_test, y_pred= predicciones)\n",
        "print(\"El valor de r2 es:\",r2)"
      ],
      "metadata": {
        "colab": {
          "base_uri": "https://localhost:8080/"
        },
        "id": "p8yVQYOuQU-m",
        "outputId": "a95e5c1c-30c4-43ec-dcb7-3e1c25b351f6"
      },
      "execution_count": null,
      "outputs": [
        {
          "output_type": "stream",
          "name": "stdout",
          "text": [
            "El valor de r2 es: -3.102836465433379\n"
          ]
        }
      ]
    },
    {
      "cell_type": "code",
      "source": [
        "plot.subplots()\n",
        "plot.scatter(x=carro5[\"horsepower\"],y=carro5[\"mpg\"])"
      ],
      "metadata": {
        "colab": {
          "base_uri": "https://localhost:8080/",
          "height": 282
        },
        "id": "e2dMGr6SQuGG",
        "outputId": "434792cc-f303-4afb-f3ba-d46b6f87d6dd"
      },
      "execution_count": null,
      "outputs": [
        {
          "output_type": "execute_result",
          "data": {
            "text/plain": [
              "<matplotlib.collections.PathCollection at 0x7fab9d5f0490>"
            ]
          },
          "metadata": {},
          "execution_count": 74
        },
        {
          "output_type": "display_data",
          "data": {
            "text/plain": [
              "<Figure size 432x288 with 1 Axes>"
            ],
            "image/png": "[encoded data removed]"
          },
          "metadata": {
            "needs_background": "light"
          }
        }
      ]
    }
  ]
}